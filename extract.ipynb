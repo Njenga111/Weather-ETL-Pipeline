{
 "cells": [
  {
   "cell_type": "code",
   "execution_count": 4,
   "id": "3d59aef6",
   "metadata": {},
   "outputs": [
    {
     "name": "stdout",
     "output_type": "stream",
     "text": [
      "{'timestamp': datetime.datetime(2025, 5, 6, 23, 3, 14, 971684, tzinfo=datetime.timezone.utc), 'city': 'Nairobi', 'description': 'clear sky', 'temperature': 14.62, 'humidity': 100, 'pressure': 1017, 'wind_speed': 1.54}\n"
     ]
    }
   ],
   "source": [
    "# Extract weather data from OpenWeather API\n",
    "\n",
    "import os\n",
    "import requests\n",
    "from datetime import datetime, timezone\n",
    "from dotenv import load_dotenv\n",
    "\n",
    "# Load environment variables\n",
    "load_dotenv()\n",
    "\n",
    "CITY = \"Nairobi\"\n",
    "API_KEY = os.getenv(\"OPENWEATHER_API_KEY\")\n",
    "URL = f\"https://api.openweathermap.org/data/2.5/weather?q={CITY}&appid={API_KEY}&units=metric\"\n",
    "\n",
    "def extract_weather_data():\n",
    "    try:\n",
    "        response = requests.get(URL, timeout=10)\n",
    "        response.raise_for_status()\n",
    "        data = response.json()\n",
    "\n",
    "        return {\n",
    "            \"timestamp\": datetime.now(timezone.utc),\n",
    "            \"city\": data.get(\"name\"),\n",
    "            \"description\": data[\"weather\"][0].get(\"description\"),\n",
    "            \"temperature\": data[\"main\"].get(\"temp\"),\n",
    "            \"humidity\": data[\"main\"].get(\"humidity\"),\n",
    "            \"pressure\": data[\"main\"].get(\"pressure\"),\n",
    "            \"wind_speed\": data[\"wind\"].get(\"speed\")\n",
    "        }\n",
    "\n",
    "    except requests.RequestException as e:\n",
    "        print(f\"[ERROR] Failed to fetch weather data: {e}\")\n",
    "        return None\n",
    "\n",
    "# Test\n",
    "weather = extract_weather_data()\n",
    "print(weather)\n"
   ]
  }
 ],
 "metadata": {
  "kernelspec": {
   "display_name": "Python 3",
   "language": "python",
   "name": "python3"
  },
  "language_info": {
   "codemirror_mode": {
    "name": "ipython",
    "version": 3
   },
   "file_extension": ".py",
   "mimetype": "text/x-python",
   "name": "python",
   "nbconvert_exporter": "python",
   "pygments_lexer": "ipython3",
   "version": "3.13.3"
  }
 },
 "nbformat": 4,
 "nbformat_minor": 5
}
